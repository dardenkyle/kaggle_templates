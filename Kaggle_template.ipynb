{
  "cells": [
    {
      "cell_type": "markdown",
      "metadata": {
        "id": "view-in-github",
        "colab_type": "text"
      },
      "source": [
        "<a href=\"https://colab.research.google.com/github/dardenkyle/kaggle_templates/blob/main/Kaggle_template.ipynb\" target=\"_parent\"><img src=\"https://colab.research.google.com/assets/colab-badge.svg\" alt=\"Open In Colab\"/></a>"
      ]
    },
    {
      "cell_type": "markdown",
      "source": [
        "# Notebook"
      ],
      "metadata": {
        "id": "LZxn6h9Q4mO7"
      }
    },
    {
      "cell_type": "markdown",
      "source": [
        "## Setup and Imports"
      ],
      "metadata": {
        "id": "ZoX0OLCm5piL"
      }
    },
    {
      "cell_type": "code",
      "execution_count": null,
      "metadata": {
        "colab": {
          "base_uri": "https://localhost:8080/"
        },
        "id": "F-GTWQOAa4Z4",
        "outputId": "3de8153a-9aaf-4be9-e806-bfab0ec0faf6"
      },
      "outputs": [
        {
          "output_type": "stream",
          "name": "stdout",
          "text": [
            "Requirement already satisfied: python-dotenv in /usr/local/lib/python3.10/dist-packages (1.0.1)\n"
          ]
        }
      ],
      "source": [
        "# Installing necessary packages to work with Kaggle API and download files\n",
        "! pip install python-dotenv\n",
        "! pip install -q kaggle"
      ]
    },
    {
      "cell_type": "code",
      "execution_count": null,
      "metadata": {
        "id": "5JrVNtsgZ4A0"
      },
      "outputs": [],
      "source": [
        "# Importing necessary libraries\n",
        "import os\n",
        "import zipfile\n",
        "from dotenv import load_dotenv\n",
        "from kaggle.api.kaggle_api_extended import KaggleApi"
      ]
    },
    {
      "cell_type": "code",
      "source": [
        "# General data science libraries\n",
        "import pandas as pd\n",
        "import numpy as np\n",
        "import seaborn as sns\n",
        "import matplotlib.pyplot as plt\n",
        "import sklearn\n",
        "\n",
        "# ML Libraries\n",
        "from xgboost import XGBClassifier\n",
        "from sklearn.ensemble import (AdaBoostClassifier,\n",
        "                              BaggingClassifier,\n",
        "                              GradientBoostingClassifier,\n",
        "                              RandomForestClassifier,\n",
        "                              )\n",
        "from sklearn.model_selection import train_test_split\n",
        "from sklearn.model_selection import GridSearchCV\n",
        "from sklearn.model_selection import RandomizedSearchCV\n",
        "from sklearn.model_selection import KFold\n",
        "from sklearn.model_selection import cross_val_score\n",
        "from sklearn.impute import SimpleImputer\n",
        "from sklearn.tree import DecisionTreeClassifier\n",
        "from sklearn.preprocessing import StandardScaler\n",
        "from sklearn.preprocessing import LabelEncoder\n",
        "from sklearn.preprocessing import OneHotEncoder\n",
        "from sklearn.linear_model import LogisticRegression\n",
        "from sklearn.metrics import (classification_report,\n",
        "                             confusion_matrix,\n",
        "                             accuracy_score,\n",
        "                             recall_score,\n",
        "                             precision_score,\n",
        "                             f1_score,\n",
        "                             make_scorer\n",
        "                             )\n",
        "\n",
        "from imblearn.over_sampling import SMOTE\n",
        "from imblearn.under_sampling import RandomUnderSampler\n",
        "\n",
        "import warnings\n",
        "warnings.filterwarnings('ignore')\n",
        "\n",
        "# Magic commands\n",
        "%matplotlib inline"
      ],
      "metadata": {
        "id": "hP76LOVZ3ysD"
      },
      "execution_count": 241,
      "outputs": []
    },
    {
      "cell_type": "markdown",
      "source": [
        "## Kaggle Authentication and Data Download"
      ],
      "metadata": {
        "id": "PB2qtt-1lr8V"
      }
    },
    {
      "cell_type": "code",
      "execution_count": null,
      "metadata": {
        "colab": {
          "base_uri": "https://localhost:8080/"
        },
        "id": "Suh4HXC-bKIW",
        "outputId": "f0640e9b-a654-40f0-9ab5-8eecf24c31eb"
      },
      "outputs": [
        {
          "output_type": "execute_result",
          "data": {
            "text/plain": [
              "True"
            ]
          },
          "metadata": {},
          "execution_count": 138
        }
      ],
      "source": [
        "# Loading environment variables from .env file\n",
        "load_dotenv()"
      ]
    },
    {
      "cell_type": "code",
      "source": [
        "# Changing directory to proper directory\n",
        "os.chdir('/content/drive/MyDrive/Kaggle/Notebooks')"
      ],
      "metadata": {
        "id": "iYKbuscVjOYg"
      },
      "execution_count": 230,
      "outputs": []
    },
    {
      "cell_type": "code",
      "source": [
        "# Ensuring that we are in the correct directory. ~/Kaggle/Notebooks\n",
        "current_dir = os.getcwd()\n",
        "print(f\"Current working directory: {current_dir}\")"
      ],
      "metadata": {
        "id": "ONcVjuCLkhxE",
        "colab": {
          "base_uri": "https://localhost:8080/"
        },
        "outputId": "53b9f86b-5e10-403b-fe67-e16261783b00"
      },
      "execution_count": null,
      "outputs": [
        {
          "output_type": "stream",
          "name": "stdout",
          "text": [
            "Current working directory: /content/drive/MyDrive/Kaggle/Notebooks\n"
          ]
        }
      ]
    },
    {
      "cell_type": "code",
      "execution_count": 231,
      "metadata": {
        "id": "2ATgRLUwbQyB",
        "colab": {
          "base_uri": "https://localhost:8080/"
        },
        "outputId": "7b368aab-ce64-49e6-e2a0-354ab96a3c91"
      },
      "outputs": [
        {
          "output_type": "stream",
          "name": "stdout",
          "text": [
            "Successfully stored username and key variables.\n"
          ]
        }
      ],
      "source": [
        "# Getting username/key from .env file\n",
        "KAGGLE_USERNAME = os.getenv('KAGGLE_USERNAME')\n",
        "KAGGLE_KEY = os.getenv('KAGGLE_KEY')\n",
        "\n",
        "print('Successfully stored username and key variables.')"
      ]
    },
    {
      "cell_type": "code",
      "execution_count": 229,
      "metadata": {
        "id": "UVfzZQDxbSNT"
      },
      "outputs": [],
      "source": [
        "# Used to test only, uncomment the following lines to determine username/key.\n",
        "\n",
        "# print(f\"Kaggle Username: {KAGGLE_USERNAME}\")\n",
        "# print(f\"Kaggle Key: {KAGGLE_KEY}\")"
      ]
    },
    {
      "cell_type": "code",
      "execution_count": 232,
      "metadata": {
        "id": "_k0LLybUbUPC",
        "colab": {
          "base_uri": "https://localhost:8080/"
        },
        "outputId": "4a18df00-eb00-4d31-9fe1-054a713ccf24"
      },
      "outputs": [
        {
          "output_type": "stream",
          "name": "stdout",
          "text": [
            "Successfully authenticated with Kaggle API.\n"
          ]
        }
      ],
      "source": [
        "# Saving KaggleApi() as api\n",
        "# Authenticating with api\n",
        "api = KaggleApi()\n",
        "api.authenticate()\n",
        "\n",
        "print('Successfully authenticated with Kaggle API.')"
      ]
    },
    {
      "cell_type": "code",
      "execution_count": null,
      "metadata": {
        "id": "DqTMWLRKiE_P"
      },
      "outputs": [],
      "source": [
        "# Download Data\n",
        "# ! kaggle competitions download -c 'name-of-competition'\n",
        "\n",
        "# Use unzip command to unzip the data:\n",
        "\n",
        "# For example,\n",
        "\n",
        "# Create a directory named train,\n",
        "\n",
        "# ! mkdir train\n",
        "\n",
        "# unzip train data there,\n",
        "\n",
        "# ! unzip train.zip -d train"
      ]
    },
    {
      "cell_type": "code",
      "source": [
        " # List of active kaggle competitions\n",
        " api.competitions_list(page = 1)"
      ],
      "metadata": {
        "colab": {
          "base_uri": "https://localhost:8080/"
        },
        "id": "KSfDDZFd3PSa",
        "outputId": "68fbc831-6c6c-4fe0-854e-ceed46bf1c19"
      },
      "execution_count": 244,
      "outputs": [
        {
          "output_type": "execute_result",
          "data": {
            "text/plain": [
              "[https://www.kaggle.com/competitions/arc-prize-2024,\n",
              " https://www.kaggle.com/competitions/lmsys-chatbot-arena,\n",
              " https://www.kaggle.com/competitions/isic-2024-challenge,\n",
              " https://www.kaggle.com/competitions/rsna-2024-lumbar-spine-degenerative-classification,\n",
              " https://www.kaggle.com/competitions/leap-atmospheric-physics-ai-climsim,\n",
              " https://www.kaggle.com/competitions/llm-20-questions,\n",
              " https://www.kaggle.com/competitions/uspto-explainable-ai,\n",
              " https://www.kaggle.com/competitions/playground-series-s4e7,\n",
              " https://www.kaggle.com/competitions/titanic,\n",
              " https://www.kaggle.com/competitions/house-prices-advanced-regression-techniques,\n",
              " https://www.kaggle.com/competitions/spaceship-titanic,\n",
              " https://www.kaggle.com/competitions/digit-recognizer,\n",
              " https://www.kaggle.com/competitions/nlp-getting-started,\n",
              " https://www.kaggle.com/competitions/store-sales-time-series-forecasting,\n",
              " https://www.kaggle.com/competitions/connectx,\n",
              " https://www.kaggle.com/competitions/gan-getting-started,\n",
              " https://www.kaggle.com/competitions/tpu-getting-started,\n",
              " https://www.kaggle.com/competitions/contradictory-my-dear-watson]"
            ]
          },
          "metadata": {},
          "execution_count": 244
        }
      ]
    },
    {
      "cell_type": "code",
      "source": [
        "# List of kaggle datasets\n",
        "# api.datasets_list(page = 1)"
      ],
      "metadata": {
        "id": "BA3-lxHh7KGW"
      },
      "execution_count": 246,
      "outputs": []
    },
    {
      "cell_type": "code",
      "source": [
        "# Storing data directory to data_dir\n",
        "data_dir = '/content/drive/MyDrive/Kaggle/Data'"
      ],
      "metadata": {
        "id": "NPC80gvbu9zs"
      },
      "execution_count": 247,
      "outputs": []
    },
    {
      "cell_type": "code",
      "source": [
        "# Storing competition name as competition_name\n",
        "# Edit with new competition name\n",
        "competition_name = 'gan-getting-started'"
      ],
      "metadata": {
        "id": "3b9W-ntAruYR"
      },
      "execution_count": 250,
      "outputs": []
    },
    {
      "cell_type": "code",
      "source": [
        "# Click link to accept the rules\n",
        "competition_rules = f'https://www.kaggle.com/c/{competition_name}/rules'\n",
        "print(competition_rules)"
      ],
      "metadata": {
        "colab": {
          "base_uri": "https://localhost:8080/"
        },
        "id": "BXFeH90l0e3x",
        "outputId": "220974c2-da19-46c3-e3cd-5c44e59543e0"
      },
      "execution_count": 251,
      "outputs": [
        {
          "output_type": "stream",
          "name": "stdout",
          "text": [
            "https://www.kaggle.com/c/gan-getting-started/rules\n"
          ]
        }
      ]
    },
    {
      "cell_type": "code",
      "source": [
        "# Download files for competition, must accept rules FIRST!\n",
        "api.competition_download_files(competition_name, path=data_dir)"
      ],
      "metadata": {
        "id": "7VSyqfmJtaqO"
      },
      "execution_count": 252,
      "outputs": []
    },
    {
      "cell_type": "code",
      "source": [
        "# Define the path to the downloaded zip file and the extraction directory\n",
        "zip_file_path = f'/content/drive/MyDrive/Kaggle/Data/{competition_name}.zip'\n",
        "extract_to_path = f'/content/drive/MyDrive/Kaggle/Data/{competition_name}'\n",
        "\n",
        "# Create the extraction directory if it does not exist\n",
        "os.makedirs(extract_to_path, exist_ok=True)\n",
        "\n",
        "# Unzip the file\n",
        "with zipfile.ZipFile(zip_file_path, 'r') as zip_ref:\n",
        "    zip_ref.extractall(extract_to_path)\n",
        "\n",
        "print(f\"Extracted dataset to: {extract_to_path}\")"
      ],
      "metadata": {
        "colab": {
          "base_uri": "https://localhost:8080/"
        },
        "id": "mB-oTR4GyRW_",
        "outputId": "e4eeafa2-ff06-4078-9cb2-fdf02c8d1e41"
      },
      "execution_count": 253,
      "outputs": [
        {
          "output_type": "stream",
          "name": "stdout",
          "text": [
            "Extracted dataset to: /content/drive/MyDrive/Kaggle/Data/gan-getting-started\n"
          ]
        }
      ]
    },
    {
      "cell_type": "code",
      "source": [
        "ls /content/drive/MyDrive/Kaggle/Data/{competition_name}"
      ],
      "metadata": {
        "colab": {
          "base_uri": "https://localhost:8080/"
        },
        "id": "p_WL75UE1dav",
        "outputId": "779976fd-83ce-4557-8a50-013628bdd802"
      },
      "execution_count": 255,
      "outputs": [
        {
          "output_type": "stream",
          "name": "stdout",
          "text": [
            "\u001b[0m\u001b[01;34mmonet_jpg\u001b[0m/  \u001b[01;34mmonet_tfrec\u001b[0m/  \u001b[01;34mphoto_jpg\u001b[0m/  \u001b[01;34mphoto_tfrec\u001b[0m/\n"
          ]
        }
      ]
    },
    {
      "cell_type": "markdown",
      "source": [
        "## Data Loading/Overview"
      ],
      "metadata": {
        "id": "wDzMahE030tB"
      }
    },
    {
      "cell_type": "code",
      "source": [],
      "metadata": {
        "id": "ETzo-7DV8dIR"
      },
      "execution_count": null,
      "outputs": []
    },
    {
      "cell_type": "markdown",
      "source": [
        "## Data Cleaning and Preprocessing"
      ],
      "metadata": {
        "id": "BJfJxuIZ5-vi"
      }
    },
    {
      "cell_type": "code",
      "source": [],
      "metadata": {
        "id": "vQvgdb526Cy7"
      },
      "execution_count": null,
      "outputs": []
    },
    {
      "cell_type": "markdown",
      "source": [
        "## Exploratory Data Analysis (EDA)"
      ],
      "metadata": {
        "id": "a0psTGQ16DHM"
      }
    },
    {
      "cell_type": "code",
      "source": [],
      "metadata": {
        "id": "C5Fp4ymv6Foq"
      },
      "execution_count": null,
      "outputs": []
    },
    {
      "cell_type": "markdown",
      "source": [
        "## Feature Engineering"
      ],
      "metadata": {
        "id": "1BX_BML46F87"
      }
    },
    {
      "cell_type": "code",
      "source": [],
      "metadata": {
        "id": "u3JZyMVH6ITS"
      },
      "execution_count": null,
      "outputs": []
    },
    {
      "cell_type": "markdown",
      "source": [
        "## Model Building and Training"
      ],
      "metadata": {
        "id": "Ok9yBLB76JVL"
      }
    },
    {
      "cell_type": "code",
      "source": [],
      "metadata": {
        "id": "BGLBHMEe6LE5"
      },
      "execution_count": null,
      "outputs": []
    },
    {
      "cell_type": "markdown",
      "source": [
        "## Model Evaluation and Validation"
      ],
      "metadata": {
        "id": "1fFN50-a6LQW"
      }
    },
    {
      "cell_type": "code",
      "source": [],
      "metadata": {
        "id": "C3kNV6P06OGH"
      },
      "execution_count": null,
      "outputs": []
    },
    {
      "cell_type": "markdown",
      "source": [
        "## Model Tuning and Optimization"
      ],
      "metadata": {
        "id": "e0mf5oDm6OWI"
      }
    },
    {
      "cell_type": "code",
      "source": [],
      "metadata": {
        "id": "YoTzWZY26SZ7"
      },
      "execution_count": null,
      "outputs": []
    },
    {
      "cell_type": "markdown",
      "source": [
        "## Conclusions and Next Steps"
      ],
      "metadata": {
        "id": "I1PWuY_g6Ven"
      }
    },
    {
      "cell_type": "code",
      "source": [],
      "metadata": {
        "id": "i_8nbeGp6U2v"
      },
      "execution_count": null,
      "outputs": []
    },
    {
      "cell_type": "markdown",
      "source": [
        "## File Submission"
      ],
      "metadata": {
        "id": "fBMwuXk8vXd1"
      }
    },
    {
      "cell_type": "code",
      "source": [
        "# Upload csv file to kaggle for submission\n",
        "! kaggle competitions submit -c competition_name -f [FILE] -m 'File has been successfully submitted.'"
      ],
      "metadata": {
        "colab": {
          "base_uri": "https://localhost:8080/"
        },
        "id": "Mu3RU8nwva3l",
        "outputId": "5a5526af-7e50-4417-93f8-85e538816c6e"
      },
      "execution_count": null,
      "outputs": [
        {
          "output_type": "stream",
          "name": "stdout",
          "text": [
            "Traceback (most recent call last):\n",
            "  File \"/usr/local/bin/kaggle\", line 8, in <module>\n",
            "    sys.exit(main())\n",
            "  File \"/usr/local/lib/python3.10/dist-packages/kaggle/cli.py\", line 54, in main\n",
            "    out = args.func(**command_args)\n",
            "  File \"/usr/local/lib/python3.10/dist-packages/kaggle/api/kaggle_api_extended.py\", line 806, in competition_submit_cli\n",
            "    submit_result = self.competition_submit(file_name, message,\n",
            "  File \"/usr/local/lib/python3.10/dist-packages/kaggle/api/kaggle_api_extended.py\", line 757, in competition_submit\n",
            "    content_length=os.path.getsize(file_name),\n",
            "  File \"/usr/lib/python3.10/genericpath.py\", line 50, in getsize\n",
            "    return os.stat(filename).st_size\n",
            "FileNotFoundError: [Errno 2] No such file or directory: '[FILE]'\n"
          ]
        }
      ]
    },
    {
      "cell_type": "markdown",
      "source": [
        "# Not Used, will delete"
      ],
      "metadata": {
        "id": "M7Hml-d7jvI2"
      }
    },
    {
      "cell_type": "code",
      "execution_count": null,
      "metadata": {
        "id": "CFYwHqOdhVT9"
      },
      "outputs": [],
      "source": [
        "from google.colab import files"
      ]
    },
    {
      "cell_type": "code",
      "execution_count": null,
      "metadata": {
        "id": "sAy0SQ3Xhain",
        "colab": {
          "base_uri": "https://localhost:8080/"
        },
        "outputId": "265b0e13-cada-4e19-bbc4-ef2e540ccbf5"
      },
      "outputs": [
        {
          "output_type": "stream",
          "name": "stdout",
          "text": [
            "mkdir: cannot create directory ‘/root/.kaggle’: File exists\n"
          ]
        }
      ],
      "source": [
        "! mkdir ~/.kaggle"
      ]
    },
    {
      "cell_type": "code",
      "execution_count": null,
      "metadata": {
        "colab": {
          "base_uri": "https://localhost:8080/",
          "height": 90
        },
        "id": "VO4uBCIwhYwl",
        "outputId": "2723dd29-a795-461f-c9fe-576eda6cf179"
      },
      "outputs": [
        {
          "data": {
            "text/html": [
              "\n",
              "     <input type=\"file\" id=\"files-9c56f7fc-c55d-4839-a283-d3fb1113ed4f\" name=\"files[]\" multiple disabled\n",
              "        style=\"border:none\" />\n",
              "     <output id=\"result-9c56f7fc-c55d-4839-a283-d3fb1113ed4f\">\n",
              "      Upload widget is only available when the cell has been executed in the\n",
              "      current browser session. Please rerun this cell to enable.\n",
              "      </output>\n",
              "      <script>// Copyright 2017 Google LLC\n",
              "//\n",
              "// Licensed under the Apache License, Version 2.0 (the \"License\");\n",
              "// you may not use this file except in compliance with the License.\n",
              "// You may obtain a copy of the License at\n",
              "//\n",
              "//      http://www.apache.org/licenses/LICENSE-2.0\n",
              "//\n",
              "// Unless required by applicable law or agreed to in writing, software\n",
              "// distributed under the License is distributed on an \"AS IS\" BASIS,\n",
              "// WITHOUT WARRANTIES OR CONDITIONS OF ANY KIND, either express or implied.\n",
              "// See the License for the specific language governing permissions and\n",
              "// limitations under the License.\n",
              "\n",
              "/**\n",
              " * @fileoverview Helpers for google.colab Python module.\n",
              " */\n",
              "(function(scope) {\n",
              "function span(text, styleAttributes = {}) {\n",
              "  const element = document.createElement('span');\n",
              "  element.textContent = text;\n",
              "  for (const key of Object.keys(styleAttributes)) {\n",
              "    element.style[key] = styleAttributes[key];\n",
              "  }\n",
              "  return element;\n",
              "}\n",
              "\n",
              "// Max number of bytes which will be uploaded at a time.\n",
              "const MAX_PAYLOAD_SIZE = 100 * 1024;\n",
              "\n",
              "function _uploadFiles(inputId, outputId) {\n",
              "  const steps = uploadFilesStep(inputId, outputId);\n",
              "  const outputElement = document.getElementById(outputId);\n",
              "  // Cache steps on the outputElement to make it available for the next call\n",
              "  // to uploadFilesContinue from Python.\n",
              "  outputElement.steps = steps;\n",
              "\n",
              "  return _uploadFilesContinue(outputId);\n",
              "}\n",
              "\n",
              "// This is roughly an async generator (not supported in the browser yet),\n",
              "// where there are multiple asynchronous steps and the Python side is going\n",
              "// to poll for completion of each step.\n",
              "// This uses a Promise to block the python side on completion of each step,\n",
              "// then passes the result of the previous step as the input to the next step.\n",
              "function _uploadFilesContinue(outputId) {\n",
              "  const outputElement = document.getElementById(outputId);\n",
              "  const steps = outputElement.steps;\n",
              "\n",
              "  const next = steps.next(outputElement.lastPromiseValue);\n",
              "  return Promise.resolve(next.value.promise).then((value) => {\n",
              "    // Cache the last promise value to make it available to the next\n",
              "    // step of the generator.\n",
              "    outputElement.lastPromiseValue = value;\n",
              "    return next.value.response;\n",
              "  });\n",
              "}\n",
              "\n",
              "/**\n",
              " * Generator function which is called between each async step of the upload\n",
              " * process.\n",
              " * @param {string} inputId Element ID of the input file picker element.\n",
              " * @param {string} outputId Element ID of the output display.\n",
              " * @return {!Iterable<!Object>} Iterable of next steps.\n",
              " */\n",
              "function* uploadFilesStep(inputId, outputId) {\n",
              "  const inputElement = document.getElementById(inputId);\n",
              "  inputElement.disabled = false;\n",
              "\n",
              "  const outputElement = document.getElementById(outputId);\n",
              "  outputElement.innerHTML = '';\n",
              "\n",
              "  const pickedPromise = new Promise((resolve) => {\n",
              "    inputElement.addEventListener('change', (e) => {\n",
              "      resolve(e.target.files);\n",
              "    });\n",
              "  });\n",
              "\n",
              "  const cancel = document.createElement('button');\n",
              "  inputElement.parentElement.appendChild(cancel);\n",
              "  cancel.textContent = 'Cancel upload';\n",
              "  const cancelPromise = new Promise((resolve) => {\n",
              "    cancel.onclick = () => {\n",
              "      resolve(null);\n",
              "    };\n",
              "  });\n",
              "\n",
              "  // Wait for the user to pick the files.\n",
              "  const files = yield {\n",
              "    promise: Promise.race([pickedPromise, cancelPromise]),\n",
              "    response: {\n",
              "      action: 'starting',\n",
              "    }\n",
              "  };\n",
              "\n",
              "  cancel.remove();\n",
              "\n",
              "  // Disable the input element since further picks are not allowed.\n",
              "  inputElement.disabled = true;\n",
              "\n",
              "  if (!files) {\n",
              "    return {\n",
              "      response: {\n",
              "        action: 'complete',\n",
              "      }\n",
              "    };\n",
              "  }\n",
              "\n",
              "  for (const file of files) {\n",
              "    const li = document.createElement('li');\n",
              "    li.append(span(file.name, {fontWeight: 'bold'}));\n",
              "    li.append(span(\n",
              "        `(${file.type || 'n/a'}) - ${file.size} bytes, ` +\n",
              "        `last modified: ${\n",
              "            file.lastModifiedDate ? file.lastModifiedDate.toLocaleDateString() :\n",
              "                                    'n/a'} - `));\n",
              "    const percent = span('0% done');\n",
              "    li.appendChild(percent);\n",
              "\n",
              "    outputElement.appendChild(li);\n",
              "\n",
              "    const fileDataPromise = new Promise((resolve) => {\n",
              "      const reader = new FileReader();\n",
              "      reader.onload = (e) => {\n",
              "        resolve(e.target.result);\n",
              "      };\n",
              "      reader.readAsArrayBuffer(file);\n",
              "    });\n",
              "    // Wait for the data to be ready.\n",
              "    let fileData = yield {\n",
              "      promise: fileDataPromise,\n",
              "      response: {\n",
              "        action: 'continue',\n",
              "      }\n",
              "    };\n",
              "\n",
              "    // Use a chunked sending to avoid message size limits. See b/62115660.\n",
              "    let position = 0;\n",
              "    do {\n",
              "      const length = Math.min(fileData.byteLength - position, MAX_PAYLOAD_SIZE);\n",
              "      const chunk = new Uint8Array(fileData, position, length);\n",
              "      position += length;\n",
              "\n",
              "      const base64 = btoa(String.fromCharCode.apply(null, chunk));\n",
              "      yield {\n",
              "        response: {\n",
              "          action: 'append',\n",
              "          file: file.name,\n",
              "          data: base64,\n",
              "        },\n",
              "      };\n",
              "\n",
              "      let percentDone = fileData.byteLength === 0 ?\n",
              "          100 :\n",
              "          Math.round((position / fileData.byteLength) * 100);\n",
              "      percent.textContent = `${percentDone}% done`;\n",
              "\n",
              "    } while (position < fileData.byteLength);\n",
              "  }\n",
              "\n",
              "  // All done.\n",
              "  yield {\n",
              "    response: {\n",
              "      action: 'complete',\n",
              "    }\n",
              "  };\n",
              "}\n",
              "\n",
              "scope.google = scope.google || {};\n",
              "scope.google.colab = scope.google.colab || {};\n",
              "scope.google.colab._files = {\n",
              "  _uploadFiles,\n",
              "  _uploadFilesContinue,\n",
              "};\n",
              "})(self);\n",
              "</script> "
            ],
            "text/plain": [
              "<IPython.core.display.HTML object>"
            ]
          },
          "metadata": {},
          "output_type": "display_data"
        },
        {
          "name": "stdout",
          "output_type": "stream",
          "text": [
            "Saving kaggle.json to kaggle.json\n"
          ]
        },
        {
          "data": {
            "text/plain": [
              "{'kaggle.json': b'{\"username\":\"kyledarden\",\"key\":\"312e88d8b1322c5084f173991b4a134d\"}'}"
            ]
          },
          "execution_count": 4,
          "metadata": {},
          "output_type": "execute_result"
        }
      ],
      "source": [
        "files.upload()"
      ]
    },
    {
      "cell_type": "code",
      "execution_count": null,
      "metadata": {
        "colab": {
          "base_uri": "https://localhost:8080/"
        },
        "id": "CuaA9MCHh9ky",
        "outputId": "6dfdb6f1-1325-4994-85e8-d0be3cba0730"
      },
      "outputs": [
        {
          "name": "stdout",
          "output_type": "stream",
          "text": [
            "chmod: cannot access '/root/.kaggle/kaggle.json': No such file or directory\n"
          ]
        }
      ],
      "source": [
        "! chmod 600 ~/.kaggle/kaggle.json"
      ]
    },
    {
      "cell_type": "code",
      "execution_count": null,
      "metadata": {
        "colab": {
          "base_uri": "https://localhost:8080/"
        },
        "id": "W0pwjEvVh5Rm",
        "outputId": "1b3b7320-3d68-463a-b5c0-30901fb7f71a"
      },
      "outputs": [
        {
          "output_type": "stream",
          "name": "stdout",
          "text": [
            "cp: cannot stat 'KAGGLE_TOKEN': No such file or directory\n"
          ]
        }
      ],
      "source": [
        "! cp KAGGLE_TOKEN ~/.kaggle/"
      ]
    }
  ],
  "metadata": {
    "colab": {
      "provenance": [],
      "collapsed_sections": [
        "ZoX0OLCm5piL",
        "M7Hml-d7jvI2"
      ],
      "mount_file_id": "1uiNhvAEAX0UDFK6yj4t8lNBwK3hp8_TY",
      "authorship_tag": "ABX9TyOlip1827GFO6cS5iM3MXav",
      "include_colab_link": true
    },
    "kernelspec": {
      "display_name": "Python 3",
      "name": "python3"
    },
    "language_info": {
      "name": "python"
    }
  },
  "nbformat": 4,
  "nbformat_minor": 0
}